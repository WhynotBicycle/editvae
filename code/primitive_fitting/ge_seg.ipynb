{
 "cells": [
  {
   "cell_type": "code",
   "execution_count": null,
   "metadata": {},
   "outputs": [],
   "source": [
    "from __future__ import print_function\n",
    "%matplotlib notebook\n",
    "#%matplotlib inline\n",
    "import numpy as np\n",
    "import math\n",
    "import random\n",
    "\n",
    "import torch\n",
    "import torch.nn.parallel"
   ]
  },
  {
   "cell_type": "code",
   "execution_count": null,
   "metadata": {},
   "outputs": [],
   "source": [
    "import sys\n",
    "\n",
    "from model_symm import trainPrimitives\n",
    "\n",
    "sys.path.append('/home/shidi/3d-generate/code/TreeGAN/dataloader')\n",
    "from dataset_benchmark import BenchmarkDataset, BenchmarkDatasetOnTheFly"
   ]
  },
  {
   "cell_type": "code",
   "execution_count": null,
   "metadata": {},
   "outputs": [],
   "source": [
    "SEED = 0 \n",
    "random.seed(SEED) \n",
    "np.random.seed(SEED) \n",
    "torch.manual_seed(SEED) "
   ]
  },
  {
   "cell_type": "code",
   "execution_count": null,
   "metadata": {},
   "outputs": [],
   "source": [
    "device = torch.device('cuda:1' if torch.cuda.is_available() else 'cpu')\n",
    "torch.cuda.set_device(device)\n",
    "# device = torch.device('cpu')"
   ]
  },
  {
   "cell_type": "code",
   "execution_count": null,
   "metadata": {},
   "outputs": [],
   "source": [
    "############################## Data loader ####################################\n",
    "print('Loading data.........')\n",
    "# Root directory for dataset\n",
    "dataroot = '../../data/datasetTreeGAN/shapenetcore_partanno_segmentation_benchmark_v0/'\n",
    "\n",
    "labs = False\n",
    "\n",
    "category = 'chair'\n",
    "data = BenchmarkDataset(dataroot, npoints=2048, uniform=False, classification=False, labs = labs, class_choice=category, device=device)\n",
    "# data = BenchmarkDatasetOnTheFly(dataroot, npoints=2500, uniform=False, classification=False, labs = labs, class_choice=category, device=device)\n",
    "\n",
    "split = 0.9\n",
    "total_num = data.__len__()\n",
    "train_num = math.floor(total_num*split)\n",
    "test_num = total_num - train_num\n",
    "train_set, test_set = torch.utils.data.random_split(data, [train_num, test_num])\n",
    "\n",
    "batch_size = 30\n",
    "train_loader = torch.utils.data.DataLoader(train_set, batch_size=batch_size, num_workers=0, drop_last=True)\n",
    "test_loader = torch.utils.data.DataLoader(test_set, batch_size=batch_size, num_workers=0, drop_last=True)\n",
    "\n",
    "print(total_num)"
   ]
  },
  {
   "cell_type": "code",
   "execution_count": null,
   "metadata": {},
   "outputs": [],
   "source": [
    "# regs_term = {\"regularizer_type\": ['bernoulli_regularizer', 'parsimony_regularizer',\n",
    "#                                   'entropy_bernoulli_regularizer', 'overlapping_regularizer'],\n",
    "#              \"bernoulli_regularizer_weight\": 1,\n",
    "#              \"entropy_bernoulli_regularizer_weight\": 1e-3,\n",
    "#              \"parsimony_regularizer_weight\": 1e-3,\n",
    "#              \"sparsity_regularizer_weight\": 0,\n",
    "#              \"overlapping_regularizer_weight\": 1e-5,\n",
    "#              \"minimum_number_of_primitives\": 3,\n",
    "#              \"maximum_number_of_primitives\": 8,\n",
    "#              \"w1\": 0.005,\n",
    "#              \"w2\": 0.005}\n",
    "# regs_term = {\"regularizer_type\": ['bernoulli_regularizer', 'parsimony_regularizer',\n",
    "#                                   'overlapping_regularizer'],\n",
    "#              \"bernoulli_regularizer_weight\": 1,\n",
    "#              \"entropy_bernoulli_regularizer_weight\": 1e-3,\n",
    "#              \"parsimony_regularizer_weight\": 1e-3,\n",
    "#              \"sparsity_regularizer_weight\": 0,\n",
    "#              \"overlapping_regularizer_weight\": 1e-6,\n",
    "#              \"minimum_number_of_primitives\": 3,\n",
    "#              \"maximum_number_of_primitives\": 8,\n",
    "#              \"w1\": 0.005,\n",
    "#              \"w2\": 0.005}\n",
    "# regs_term = {\"regularizer_type\": ['overlapping_regularizer'],\n",
    "#              \"bernoulli_regularizer_weight\": 0,\n",
    "#              \"entropy_bernoulli_regularizer_weight\": 0,\n",
    "#              \"parsimony_regularizer_weight\": 0,\n",
    "#              \"sparsity_regularizer_weight\": 0,\n",
    "#              \"overlapping_regularizer_weight\": 1e-2,\n",
    "#              \"minimum_number_of_primitives\": 3,\n",
    "#              \"maximum_number_of_primitives\": 8,\n",
    "#              \"w1\": 0.005,\n",
    "#              \"w2\": 0.005}\n",
    "\n",
    "regs_term = {\"regularizer_type\": [],\n",
    "             \"bernoulli_regularizer_weight\": 0,\n",
    "             \"entropy_bernoulli_regularizer_weight\": 0,\n",
    "             \"parsimony_regularizer_weight\": 0,\n",
    "             \"sparsity_regularizer_weight\": 0,\n",
    "             \"overlapping_regularizer_weight\": 10,\n",
    "             \"minimum_number_of_primitives\": 0,\n",
    "             \"maximum_number_of_primitives\": 0,\n",
    "             \"w1\": 0.005,\n",
    "             \"w2\": 0.005}"
   ]
  },
  {
   "cell_type": "code",
   "execution_count": null,
   "metadata": {},
   "outputs": [],
   "source": [
    "model = trainPrimitives(train_loader=train_loader, \n",
    "                        test_loader=test_loader,\n",
    "                        device=device, regularizer_terms=regs_term, category=category,\n",
    "                        beta=1e-2, epoch=50, n_shapes=3, n_pos=4)"
   ]
  },
  {
   "cell_type": "code",
   "execution_count": null,
   "metadata": {},
   "outputs": [],
   "source": [
    "model.run()\n",
    "# model.run_with_NVP()\n",
    "# model.gt_seg()\n",
    "\n",
    "# model.load()\n",
    "model.vis()"
   ]
  },
  {
   "cell_type": "code",
   "execution_count": null,
   "metadata": {},
   "outputs": [],
   "source": [
    "# model.save_unsupervised_seg()"
   ]
  },
  {
   "cell_type": "code",
   "execution_count": null,
   "metadata": {},
   "outputs": [],
   "source": [
    "# model.load()\n",
    "# model.vis()"
   ]
  },
  {
   "cell_type": "code",
   "execution_count": null,
   "metadata": {},
   "outputs": [],
   "source": []
  },
  {
   "cell_type": "code",
   "execution_count": null,
   "metadata": {},
   "outputs": [],
   "source": []
  }
 ],
 "metadata": {
  "kernelspec": {
   "display_name": "Python 3",
   "language": "python",
   "name": "python3"
  },
  "language_info": {
   "codemirror_mode": {
    "name": "ipython",
    "version": 3
   },
   "file_extension": ".py",
   "mimetype": "text/x-python",
   "name": "python",
   "nbconvert_exporter": "python",
   "pygments_lexer": "ipython3",
   "version": "3.7.4"
  }
 },
 "nbformat": 4,
 "nbformat_minor": 2
}
